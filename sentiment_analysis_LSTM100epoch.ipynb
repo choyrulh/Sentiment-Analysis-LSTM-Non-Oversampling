{
 "cells": [
  {
   "cell_type": "code",
   "execution_count": 1,
   "metadata": {},
   "outputs": [
    {
     "name": "stderr",
     "output_type": "stream",
     "text": [
      "2023-02-16 22:22:45.354021: I tensorflow/core/platform/cpu_feature_guard.cc:193] This TensorFlow binary is optimized with oneAPI Deep Neural Network Library (oneDNN) to use the following CPU instructions in performance-critical operations:  AVX2 FMA\n",
      "To enable them in other operations, rebuild TensorFlow with the appropriate compiler flags.\n",
      "2023-02-16 22:22:45.834660: W tensorflow/compiler/xla/stream_executor/platform/default/dso_loader.cc:64] Could not load dynamic library 'libcudart.so.11.0'; dlerror: libcudart.so.11.0: cannot open shared object file: No such file or directory\n",
      "2023-02-16 22:22:45.834715: I tensorflow/compiler/xla/stream_executor/cuda/cudart_stub.cc:29] Ignore above cudart dlerror if you do not have a GPU set up on your machine.\n",
      "2023-02-16 22:22:48.852770: W tensorflow/compiler/xla/stream_executor/platform/default/dso_loader.cc:64] Could not load dynamic library 'libnvinfer.so.7'; dlerror: libnvinfer.so.7: cannot open shared object file: No such file or directory\n",
      "2023-02-16 22:22:48.853097: W tensorflow/compiler/xla/stream_executor/platform/default/dso_loader.cc:64] Could not load dynamic library 'libnvinfer_plugin.so.7'; dlerror: libnvinfer_plugin.so.7: cannot open shared object file: No such file or directory\n",
      "2023-02-16 22:22:48.853127: W tensorflow/compiler/tf2tensorrt/utils/py_utils.cc:38] TF-TRT Warning: Cannot dlopen some TensorRT libraries. If you would like to use Nvidia GPU with TensorRT, please make sure the missing libraries mentioned above are installed properly.\n"
     ]
    }
   ],
   "source": [
    "import re\n",
    "import numpy as np\n",
    "import pandas as pd\n",
    "from sklearn.model_selection import train_test_split\n",
    "import matplotlib.pyplot as plt\n",
    "\n",
    "from keras.models import Sequential, load_model\n",
    "from keras.layers import Dense, LSTM, Embedding, Dropout\n",
    "from keras.preprocessing.text import Tokenizer\n",
    "from keras.utils import pad_sequences"
   ]
  },
  {
   "cell_type": "markdown",
   "metadata": {},
   "source": [
    "## Data Preprocessing"
   ]
  },
  {
   "cell_type": "code",
   "execution_count": 2,
   "metadata": {},
   "outputs": [
    {
     "data": {
      "text/html": [
       "<div>\n",
       "<style scoped>\n",
       "    .dataframe tbody tr th:only-of-type {\n",
       "        vertical-align: middle;\n",
       "    }\n",
       "\n",
       "    .dataframe tbody tr th {\n",
       "        vertical-align: top;\n",
       "    }\n",
       "\n",
       "    .dataframe thead th {\n",
       "        text-align: right;\n",
       "    }\n",
       "</style>\n",
       "<table border=\"1\" class=\"dataframe\">\n",
       "  <thead>\n",
       "    <tr style=\"text-align: right;\">\n",
       "      <th></th>\n",
       "      <th>tweet</th>\n",
       "      <th>label</th>\n",
       "    </tr>\n",
       "  </thead>\n",
       "  <tbody>\n",
       "    <tr>\n",
       "      <th>442</th>\n",
       "      <td>NaN</td>\n",
       "      <td>NaN</td>\n",
       "    </tr>\n",
       "    <tr>\n",
       "      <th>1259</th>\n",
       "      <td>anies baswedan kirimi susi pudjiastuti tanaman...</td>\n",
       "      <td>dukungan</td>\n",
       "    </tr>\n",
       "    <tr>\n",
       "      <th>1219</th>\n",
       "      <td>aly bima kok gak ada gambar hasil kerja soal s...</td>\n",
       "      <td>netral</td>\n",
       "    </tr>\n",
       "    <tr>\n",
       "      <th>782</th>\n",
       "      <td>tenggelamkannasdem tenggelamkannasdem tenggel...</td>\n",
       "      <td>tidak mendukung</td>\n",
       "    </tr>\n",
       "    <tr>\n",
       "      <th>1492</th>\n",
       "      <td>kalau pks dan demokrat tidak jadi atau tidak m...</td>\n",
       "      <td>tidak mendukung</td>\n",
       "    </tr>\n",
       "    <tr>\n",
       "      <th>...</th>\n",
       "      <td>...</td>\n",
       "      <td>...</td>\n",
       "    </tr>\n",
       "    <tr>\n",
       "      <th>905</th>\n",
       "      <td>nasdem meresmikan capres indonesia berdukacit...</td>\n",
       "      <td>hujatan</td>\n",
       "    </tr>\n",
       "    <tr>\n",
       "      <th>133</th>\n",
       "      <td>NaN</td>\n",
       "      <td>NaN</td>\n",
       "    </tr>\n",
       "    <tr>\n",
       "      <th>1202</th>\n",
       "      <td>NaN</td>\n",
       "      <td>NaN</td>\n",
       "    </tr>\n",
       "    <tr>\n",
       "      <th>1053</th>\n",
       "      <td>gelar acara dukungan warga jateng ingin merasa...</td>\n",
       "      <td>dukungan</td>\n",
       "    </tr>\n",
       "    <tr>\n",
       "      <th>787</th>\n",
       "      <td>NaN</td>\n",
       "      <td>NaN</td>\n",
       "    </tr>\n",
       "  </tbody>\n",
       "</table>\n",
       "<p>1739 rows × 2 columns</p>\n",
       "</div>"
      ],
      "text/plain": [
       "                                                  tweet            label\n",
       "442                                                 NaN              NaN\n",
       "1259  anies baswedan kirimi susi pudjiastuti tanaman...         dukungan\n",
       "1219  aly bima kok gak ada gambar hasil kerja soal s...           netral\n",
       "782    tenggelamkannasdem tenggelamkannasdem tenggel...  tidak mendukung\n",
       "1492  kalau pks dan demokrat tidak jadi atau tidak m...  tidak mendukung\n",
       "...                                                 ...              ...\n",
       "905    nasdem meresmikan capres indonesia berdukacit...          hujatan\n",
       "133                                                 NaN              NaN\n",
       "1202                                                NaN              NaN\n",
       "1053  gelar acara dukungan warga jateng ingin merasa...         dukungan\n",
       "787                                                 NaN              NaN\n",
       "\n",
       "[1739 rows x 2 columns]"
      ]
     },
     "execution_count": 2,
     "metadata": {},
     "output_type": "execute_result"
    }
   ],
   "source": [
    "# read dataset\n",
    "\n",
    "dt = pd.read_csv('data_train.csv')\n",
    "dt = dt.sample(frac=1)\n",
    "\n",
    "dt"
   ]
  },
  {
   "cell_type": "code",
   "execution_count": 3,
   "metadata": {},
   "outputs": [
    {
     "data": {
      "text/html": [
       "<div>\n",
       "<style scoped>\n",
       "    .dataframe tbody tr th:only-of-type {\n",
       "        vertical-align: middle;\n",
       "    }\n",
       "\n",
       "    .dataframe tbody tr th {\n",
       "        vertical-align: top;\n",
       "    }\n",
       "\n",
       "    .dataframe thead th {\n",
       "        text-align: right;\n",
       "    }\n",
       "</style>\n",
       "<table border=\"1\" class=\"dataframe\">\n",
       "  <thead>\n",
       "    <tr style=\"text-align: right;\">\n",
       "      <th></th>\n",
       "      <th>tweet</th>\n",
       "      <th>label</th>\n",
       "    </tr>\n",
       "  </thead>\n",
       "  <tbody>\n",
       "    <tr>\n",
       "      <th>1259</th>\n",
       "      <td>anies baswedan kirimi susi pudjiastuti tanaman...</td>\n",
       "      <td>dukungan</td>\n",
       "    </tr>\n",
       "    <tr>\n",
       "      <th>1219</th>\n",
       "      <td>aly bima kok gak ada gambar hasil kerja soal s...</td>\n",
       "      <td>netral</td>\n",
       "    </tr>\n",
       "    <tr>\n",
       "      <th>782</th>\n",
       "      <td>tenggelamkannasdem tenggelamkannasdem tenggel...</td>\n",
       "      <td>tidak mendukung</td>\n",
       "    </tr>\n",
       "    <tr>\n",
       "      <th>1492</th>\n",
       "      <td>kalau pks dan demokrat tidak jadi atau tidak m...</td>\n",
       "      <td>tidak mendukung</td>\n",
       "    </tr>\n",
       "    <tr>\n",
       "      <th>71</th>\n",
       "      <td>jangan jangan si firli bahuri itu yang sebena...</td>\n",
       "      <td>dukungan</td>\n",
       "    </tr>\n",
       "    <tr>\n",
       "      <th>...</th>\n",
       "      <td>...</td>\n",
       "      <td>...</td>\n",
       "    </tr>\n",
       "    <tr>\n",
       "      <th>466</th>\n",
       "      <td>kereenn nasdembersamaanies</td>\n",
       "      <td>pujian</td>\n",
       "    </tr>\n",
       "    <tr>\n",
       "      <th>1680</th>\n",
       "      <td>nasdem untuk kepentingan indonesia pilihan nas...</td>\n",
       "      <td>dukungan</td>\n",
       "    </tr>\n",
       "    <tr>\n",
       "      <th>135</th>\n",
       "      <td>jangan hina cebang cebong untuk menjadi presi...</td>\n",
       "      <td>hujatan</td>\n",
       "    </tr>\n",
       "    <tr>\n",
       "      <th>905</th>\n",
       "      <td>nasdem meresmikan capres indonesia berdukacit...</td>\n",
       "      <td>hujatan</td>\n",
       "    </tr>\n",
       "    <tr>\n",
       "      <th>1053</th>\n",
       "      <td>gelar acara dukungan warga jateng ingin merasa...</td>\n",
       "      <td>dukungan</td>\n",
       "    </tr>\n",
       "  </tbody>\n",
       "</table>\n",
       "<p>1236 rows × 2 columns</p>\n",
       "</div>"
      ],
      "text/plain": [
       "                                                  tweet            label\n",
       "1259  anies baswedan kirimi susi pudjiastuti tanaman...         dukungan\n",
       "1219  aly bima kok gak ada gambar hasil kerja soal s...           netral\n",
       "782    tenggelamkannasdem tenggelamkannasdem tenggel...  tidak mendukung\n",
       "1492  kalau pks dan demokrat tidak jadi atau tidak m...  tidak mendukung\n",
       "71     jangan jangan si firli bahuri itu yang sebena...         dukungan\n",
       "...                                                 ...              ...\n",
       "466                         kereenn nasdembersamaanies            pujian\n",
       "1680  nasdem untuk kepentingan indonesia pilihan nas...         dukungan\n",
       "135    jangan hina cebang cebong untuk menjadi presi...          hujatan\n",
       "905    nasdem meresmikan capres indonesia berdukacit...          hujatan\n",
       "1053  gelar acara dukungan warga jateng ingin merasa...         dukungan\n",
       "\n",
       "[1236 rows x 2 columns]"
      ]
     },
     "execution_count": 3,
     "metadata": {},
     "output_type": "execute_result"
    }
   ],
   "source": [
    "# delete NaN data\n",
    "dt.dropna(inplace=True)\n",
    "\n",
    "dt"
   ]
  },
  {
   "cell_type": "code",
   "execution_count": 4,
   "metadata": {},
   "outputs": [],
   "source": [
    "# update label\n",
    "\n",
    "dt['label'] = dt['label'].replace({'pujian':'dukungan', 'hujatan':'tidak mendukung'})"
   ]
  },
  {
   "cell_type": "code",
   "execution_count": null,
   "metadata": {},
   "outputs": [],
   "source": []
  },
  {
   "cell_type": "markdown",
   "metadata": {},
   "source": [
    "## Data Preparation"
   ]
  },
  {
   "cell_type": "code",
   "execution_count": 5,
   "metadata": {},
   "outputs": [
    {
     "data": {
      "text/plain": [
       "dukungan           569\n",
       "tidak mendukung    486\n",
       "netral             181\n",
       "Name: label, dtype: int64"
      ]
     },
     "execution_count": 5,
     "metadata": {},
     "output_type": "execute_result"
    },
    {
     "data": {
      "image/png": "[encoded data removed]",
      "text/plain": [
       "<Figure size 432x288 with 1 Axes>"
      ]
     },
     "metadata": {
      "needs_background": "light"
     },
     "output_type": "display_data"
    }
   ],
   "source": [
    "# visualize data\n",
    "\n",
    "dt['label'].value_counts().sort_index().plot.bar()\n",
    "dt['label'].value_counts()"
   ]
  },
  {
   "cell_type": "code",
   "execution_count": 6,
   "metadata": {},
   "outputs": [
    {
     "name": "stdout",
     "output_type": "stream",
     "text": [
      "[[   0    0    0 ... 1864  835  240]\n",
      " [   0    0    0 ...  532 1870   36]\n",
      " [   0    0    0 ...   74   74   74]\n",
      " ...\n",
      " [   0    0    0 ... 1861  148 1592]\n",
      " [   0    0    0 ...    4    4 1774]\n",
      " [   0    0    0 ...  440    1    2]]\n"
     ]
    }
   ],
   "source": [
    "# tokenizer text\n",
    "\n",
    "tokenizer = Tokenizer(num_words=5000, split=\" \")\n",
    "\n",
    "tokenizer.fit_on_texts(dt['tweet'].values)\n",
    "X = tokenizer.texts_to_sequences(dt['tweet'].values)\n",
    "X = pad_sequences(X)\n",
    "print(X)"
   ]
  },
  {
   "cell_type": "code",
   "execution_count": 7,
   "metadata": {},
   "outputs": [
    {
     "data": {
      "text/plain": [
       "array([[1, 0, 0],\n",
       "       [0, 1, 0],\n",
       "       [0, 0, 1],\n",
       "       ...,\n",
       "       [0, 0, 1],\n",
       "       [0, 0, 1],\n",
       "       [1, 0, 0]], dtype=uint8)"
      ]
     },
     "execution_count": 7,
     "metadata": {},
     "output_type": "execute_result"
    }
   ],
   "source": [
    "# get label\n",
    "\n",
    "y = pd.get_dummies(dt['label']).values\n",
    "y"
   ]
  },
  {
   "cell_type": "code",
   "execution_count": 8,
   "metadata": {},
   "outputs": [
    {
     "name": "stdout",
     "output_type": "stream",
     "text": [
      "(1236, 3)\n"
     ]
    }
   ],
   "source": [
    "print(y.shape)"
   ]
  },
  {
   "cell_type": "code",
   "execution_count": null,
   "metadata": {},
   "outputs": [],
   "source": []
  },
  {
   "cell_type": "code",
   "execution_count": 9,
   "metadata": {},
   "outputs": [
    {
     "name": "stdout",
     "output_type": "stream",
     "text": [
      "(988, 51)\n",
      "(248, 51)\n"
     ]
    }
   ],
   "source": [
    "# split dataset smote tanpa menggunakan tokenizing\n",
    "\n",
    "X_train, X_test, y_train, y_test = train_test_split(X, y, test_size=0.2, random_state=0)\n",
    "\n",
    "print(X_train.shape)\n",
    "print(X_test.shape)"
   ]
  },
  {
   "cell_type": "markdown",
   "metadata": {},
   "source": [
    "## Training Model"
   ]
  },
  {
   "cell_type": "code",
   "execution_count": 10,
   "metadata": {},
   "outputs": [
    {
     "name": "stderr",
     "output_type": "stream",
     "text": [
      "2023-02-16 22:22:54.347609: W tensorflow/compiler/xla/stream_executor/platform/default/dso_loader.cc:64] Could not load dynamic library 'libcudart.so.11.0'; dlerror: libcudart.so.11.0: cannot open shared object file: No such file or directory\n",
      "2023-02-16 22:22:54.347839: W tensorflow/compiler/xla/stream_executor/platform/default/dso_loader.cc:64] Could not load dynamic library 'libcublas.so.11'; dlerror: libcublas.so.11: cannot open shared object file: No such file or directory\n",
      "2023-02-16 22:22:54.348011: W tensorflow/compiler/xla/stream_executor/platform/default/dso_loader.cc:64] Could not load dynamic library 'libcublasLt.so.11'; dlerror: libcublasLt.so.11: cannot open shared object file: No such file or directory\n",
      "2023-02-16 22:22:54.348187: W tensorflow/compiler/xla/stream_executor/platform/default/dso_loader.cc:64] Could not load dynamic library 'libcufft.so.10'; dlerror: libcufft.so.10: cannot open shared object file: No such file or directory\n",
      "2023-02-16 22:22:54.348331: W tensorflow/compiler/xla/stream_executor/platform/default/dso_loader.cc:64] Could not load dynamic library 'libcurand.so.10'; dlerror: libcurand.so.10: cannot open shared object file: No such file or directory\n",
      "2023-02-16 22:22:54.348474: W tensorflow/compiler/xla/stream_executor/platform/default/dso_loader.cc:64] Could not load dynamic library 'libcusolver.so.11'; dlerror: libcusolver.so.11: cannot open shared object file: No such file or directory\n",
      "2023-02-16 22:22:54.348616: W tensorflow/compiler/xla/stream_executor/platform/default/dso_loader.cc:64] Could not load dynamic library 'libcusparse.so.11'; dlerror: libcusparse.so.11: cannot open shared object file: No such file or directory\n",
      "2023-02-16 22:22:54.348783: W tensorflow/compiler/xla/stream_executor/platform/default/dso_loader.cc:64] Could not load dynamic library 'libcudnn.so.8'; dlerror: libcudnn.so.8: cannot open shared object file: No such file or directory\n",
      "2023-02-16 22:22:54.348816: W tensorflow/core/common_runtime/gpu/gpu_device.cc:1934] Cannot dlopen some GPU libraries. Please make sure the missing libraries mentioned above are installed properly if you would like to use GPU. Follow the guide at https://www.tensorflow.org/install/gpu for how to download and setup the required libraries for your platform.\n",
      "Skipping registering GPU devices...\n",
      "2023-02-16 22:22:54.349313: I tensorflow/core/platform/cpu_feature_guard.cc:193] This TensorFlow binary is optimized with oneAPI Deep Neural Network Library (oneDNN) to use the following CPU instructions in performance-critical operations:  AVX2 FMA\n",
      "To enable them in other operations, rebuild TensorFlow with the appropriate compiler flags.\n"
     ]
    },
    {
     "name": "stdout",
     "output_type": "stream",
     "text": [
      "Model: \"sequential\"\n",
      "_________________________________________________________________\n",
      " Layer (type)                Output Shape              Param #   \n",
      "=================================================================\n",
      " embedding (Embedding)       (None, None, 256)         1280000   \n",
      "                                                                 \n",
      " dropout (Dropout)           (None, None, 256)         0         \n",
      "                                                                 \n",
      " lstm (LSTM)                 (None, None, 256)         525312    \n",
      "                                                                 \n",
      " lstm_1 (LSTM)               (None, 256)               525312    \n",
      "                                                                 \n",
      " dense (Dense)               (None, 3)                 771       \n",
      "                                                                 \n",
      "=================================================================\n",
      "Total params: 2,331,395\n",
      "Trainable params: 2,331,395\n",
      "Non-trainable params: 0\n",
      "_________________________________________________________________\n"
     ]
    }
   ],
   "source": [
    "# LSTM Modelling\n",
    "\n",
    "model = Sequential()\n",
    "model.add(Embedding(5000, 256))\n",
    "model.add(Dropout(0.3))\n",
    "model.add(LSTM(256, return_sequences=True, dropout=0.3, recurrent_dropout=0.2))\n",
    "model.add(LSTM(256, dropout=0.3, recurrent_dropout=0.2))\n",
    "model.add(Dense(3, activation='softmax'))\n",
    "model.compile(loss='categorical_crossentropy', optimizer='adam', metrics=['accuracy'])\n",
    "model.summary()"
   ]
  },
  {
   "cell_type": "code",
   "execution_count": null,
   "metadata": {},
   "outputs": [],
   "source": []
  },
  {
   "cell_type": "code",
   "execution_count": 11,
   "metadata": {},
   "outputs": [
    {
     "name": "stdout",
     "output_type": "stream",
     "text": [
      "Epoch 1/100\n",
      "31/31 - 17s - loss: 1.0161 - accuracy: 0.4990 - val_loss: 0.9125 - val_accuracy: 0.6290 - 17s/epoch - 536ms/step\n",
      "Epoch 2/100\n",
      "31/31 - 11s - loss: 0.7832 - accuracy: 0.6862 - val_loss: 0.8156 - val_accuracy: 0.6935 - 11s/epoch - 352ms/step\n",
      "Epoch 3/100\n",
      "31/31 - 10s - loss: 0.4955 - accuracy: 0.7864 - val_loss: 0.8697 - val_accuracy: 0.6653 - 10s/epoch - 332ms/step\n",
      "Epoch 4/100\n",
      "31/31 - 10s - loss: 0.2648 - accuracy: 0.8998 - val_loss: 1.0246 - val_accuracy: 0.6250 - 10s/epoch - 334ms/step\n",
      "Epoch 5/100\n",
      "31/31 - 10s - loss: 0.1342 - accuracy: 0.9565 - val_loss: 1.1621 - val_accuracy: 0.6815 - 10s/epoch - 337ms/step\n",
      "Epoch 6/100\n",
      "31/31 - 11s - loss: 0.0618 - accuracy: 0.9848 - val_loss: 1.2697 - val_accuracy: 0.6815 - 11s/epoch - 341ms/step\n",
      "Epoch 7/100\n",
      "31/31 - 11s - loss: 0.0399 - accuracy: 0.9868 - val_loss: 1.4920 - val_accuracy: 0.6452 - 11s/epoch - 341ms/step\n",
      "Epoch 8/100\n",
      "31/31 - 11s - loss: 0.0326 - accuracy: 0.9929 - val_loss: 1.6539 - val_accuracy: 0.6532 - 11s/epoch - 339ms/step\n",
      "Epoch 9/100\n",
      "31/31 - 11s - loss: 0.0200 - accuracy: 0.9919 - val_loss: 1.4309 - val_accuracy: 0.6734 - 11s/epoch - 340ms/step\n",
      "Epoch 10/100\n",
      "31/31 - 11s - loss: 0.0325 - accuracy: 0.9909 - val_loss: 1.3858 - val_accuracy: 0.6008 - 11s/epoch - 340ms/step\n",
      "Epoch 11/100\n",
      "31/31 - 11s - loss: 0.0159 - accuracy: 0.9970 - val_loss: 1.6366 - val_accuracy: 0.6411 - 11s/epoch - 340ms/step\n",
      "Epoch 12/100\n",
      "31/31 - 11s - loss: 0.0173 - accuracy: 0.9960 - val_loss: 1.8231 - val_accuracy: 0.6411 - 11s/epoch - 342ms/step\n",
      "Epoch 13/100\n",
      "31/31 - 11s - loss: 0.0090 - accuracy: 0.9980 - val_loss: 1.6977 - val_accuracy: 0.6331 - 11s/epoch - 341ms/step\n",
      "Epoch 14/100\n",
      "31/31 - 11s - loss: 0.0122 - accuracy: 0.9980 - val_loss: 1.8266 - val_accuracy: 0.6371 - 11s/epoch - 341ms/step\n",
      "Epoch 15/100\n",
      "31/31 - 11s - loss: 0.0121 - accuracy: 0.9970 - val_loss: 1.6312 - val_accuracy: 0.6613 - 11s/epoch - 343ms/step\n",
      "Epoch 16/100\n",
      "31/31 - 11s - loss: 0.0101 - accuracy: 0.9980 - val_loss: 1.5587 - val_accuracy: 0.6331 - 11s/epoch - 342ms/step\n",
      "Epoch 17/100\n",
      "31/31 - 11s - loss: 0.0106 - accuracy: 0.9970 - val_loss: 2.2132 - val_accuracy: 0.6129 - 11s/epoch - 342ms/step\n",
      "Epoch 18/100\n",
      "31/31 - 11s - loss: 0.0166 - accuracy: 0.9929 - val_loss: 1.8689 - val_accuracy: 0.6532 - 11s/epoch - 345ms/step\n",
      "Epoch 19/100\n",
      "31/31 - 11s - loss: 0.0177 - accuracy: 0.9960 - val_loss: 2.1575 - val_accuracy: 0.6008 - 11s/epoch - 342ms/step\n",
      "Epoch 20/100\n",
      "31/31 - 11s - loss: 0.0108 - accuracy: 0.9970 - val_loss: 2.0152 - val_accuracy: 0.6411 - 11s/epoch - 341ms/step\n",
      "Epoch 21/100\n",
      "31/31 - 11s - loss: 0.0087 - accuracy: 0.9980 - val_loss: 2.0307 - val_accuracy: 0.6210 - 11s/epoch - 342ms/step\n",
      "Epoch 22/100\n",
      "31/31 - 11s - loss: 0.0123 - accuracy: 0.9960 - val_loss: 1.7265 - val_accuracy: 0.6169 - 11s/epoch - 342ms/step\n",
      "Epoch 23/100\n",
      "31/31 - 11s - loss: 0.0162 - accuracy: 0.9949 - val_loss: 1.6512 - val_accuracy: 0.6169 - 11s/epoch - 343ms/step\n",
      "Epoch 24/100\n",
      "31/31 - 11s - loss: 0.0147 - accuracy: 0.9949 - val_loss: 2.3167 - val_accuracy: 0.6210 - 11s/epoch - 343ms/step\n",
      "Epoch 25/100\n",
      "31/31 - 11s - loss: 0.0251 - accuracy: 0.9939 - val_loss: 1.8800 - val_accuracy: 0.6411 - 11s/epoch - 342ms/step\n",
      "Epoch 26/100\n",
      "31/31 - 11s - loss: 0.0180 - accuracy: 0.9929 - val_loss: 2.0076 - val_accuracy: 0.6210 - 11s/epoch - 343ms/step\n",
      "Epoch 27/100\n",
      "31/31 - 11s - loss: 0.0140 - accuracy: 0.9960 - val_loss: 1.7289 - val_accuracy: 0.6290 - 11s/epoch - 342ms/step\n",
      "Epoch 28/100\n",
      "31/31 - 11s - loss: 0.0112 - accuracy: 0.9980 - val_loss: 1.7757 - val_accuracy: 0.6371 - 11s/epoch - 342ms/step\n",
      "Epoch 29/100\n",
      "31/31 - 11s - loss: 0.0083 - accuracy: 0.9980 - val_loss: 1.8353 - val_accuracy: 0.6532 - 11s/epoch - 343ms/step\n",
      "Epoch 30/100\n",
      "31/31 - 11s - loss: 0.0111 - accuracy: 0.9970 - val_loss: 1.9005 - val_accuracy: 0.6331 - 11s/epoch - 345ms/step\n",
      "Epoch 31/100\n",
      "31/31 - 11s - loss: 0.0071 - accuracy: 0.9980 - val_loss: 1.8539 - val_accuracy: 0.6331 - 11s/epoch - 344ms/step\n",
      "Epoch 32/100\n",
      "31/31 - 11s - loss: 0.0065 - accuracy: 0.9980 - val_loss: 1.9222 - val_accuracy: 0.6371 - 11s/epoch - 343ms/step\n",
      "Epoch 33/100\n",
      "31/31 - 11s - loss: 0.0071 - accuracy: 0.9970 - val_loss: 2.0357 - val_accuracy: 0.6411 - 11s/epoch - 343ms/step\n",
      "Epoch 34/100\n",
      "31/31 - 11s - loss: 0.0066 - accuracy: 0.9949 - val_loss: 2.0364 - val_accuracy: 0.6411 - 11s/epoch - 343ms/step\n",
      "Epoch 35/100\n",
      "31/31 - 11s - loss: 0.0037 - accuracy: 0.9980 - val_loss: 2.0274 - val_accuracy: 0.6371 - 11s/epoch - 343ms/step\n",
      "Epoch 36/100\n",
      "31/31 - 11s - loss: 0.0056 - accuracy: 0.9980 - val_loss: 2.0403 - val_accuracy: 0.6331 - 11s/epoch - 344ms/step\n",
      "Epoch 37/100\n",
      "31/31 - 11s - loss: 0.0052 - accuracy: 0.9970 - val_loss: 2.0409 - val_accuracy: 0.6331 - 11s/epoch - 345ms/step\n",
      "Epoch 38/100\n",
      "31/31 - 11s - loss: 0.0071 - accuracy: 0.9970 - val_loss: 1.9914 - val_accuracy: 0.6331 - 11s/epoch - 345ms/step\n",
      "Epoch 39/100\n",
      "31/31 - 11s - loss: 0.0056 - accuracy: 0.9960 - val_loss: 2.0513 - val_accuracy: 0.6290 - 11s/epoch - 343ms/step\n",
      "Epoch 40/100\n",
      "31/31 - 11s - loss: 0.0043 - accuracy: 0.9980 - val_loss: 2.1007 - val_accuracy: 0.6371 - 11s/epoch - 344ms/step\n",
      "Epoch 41/100\n",
      "31/31 - 11s - loss: 0.0046 - accuracy: 0.9960 - val_loss: 2.1447 - val_accuracy: 0.6411 - 11s/epoch - 345ms/step\n",
      "Epoch 42/100\n",
      "31/31 - 11s - loss: 0.0051 - accuracy: 0.9980 - val_loss: 2.1145 - val_accuracy: 0.6371 - 11s/epoch - 367ms/step\n",
      "Epoch 43/100\n",
      "31/31 - 12s - loss: 0.0043 - accuracy: 0.9970 - val_loss: 2.1957 - val_accuracy: 0.6452 - 12s/epoch - 383ms/step\n",
      "Epoch 44/100\n",
      "31/31 - 14s - loss: 0.0042 - accuracy: 0.9980 - val_loss: 2.2713 - val_accuracy: 0.6411 - 14s/epoch - 444ms/step\n",
      "Epoch 45/100\n",
      "31/31 - 12s - loss: 0.0045 - accuracy: 0.9980 - val_loss: 2.3484 - val_accuracy: 0.6169 - 12s/epoch - 393ms/step\n",
      "Epoch 46/100\n",
      "31/31 - 11s - loss: 0.0044 - accuracy: 0.9980 - val_loss: 2.2262 - val_accuracy: 0.6290 - 11s/epoch - 356ms/step\n",
      "Epoch 47/100\n",
      "31/31 - 11s - loss: 0.0037 - accuracy: 0.9980 - val_loss: 2.2750 - val_accuracy: 0.6290 - 11s/epoch - 350ms/step\n",
      "Epoch 48/100\n",
      "31/31 - 11s - loss: 0.0030 - accuracy: 0.9990 - val_loss: 2.3320 - val_accuracy: 0.6331 - 11s/epoch - 347ms/step\n",
      "Epoch 49/100\n",
      "31/31 - 11s - loss: 0.0033 - accuracy: 0.9990 - val_loss: 2.4267 - val_accuracy: 0.6290 - 11s/epoch - 345ms/step\n",
      "Epoch 50/100\n",
      "31/31 - 11s - loss: 0.0060 - accuracy: 0.9980 - val_loss: 2.3012 - val_accuracy: 0.6411 - 11s/epoch - 344ms/step\n",
      "Epoch 51/100\n",
      "31/31 - 11s - loss: 0.0049 - accuracy: 0.9960 - val_loss: 2.3665 - val_accuracy: 0.6331 - 11s/epoch - 346ms/step\n",
      "Epoch 52/100\n",
      "31/31 - 11s - loss: 0.0056 - accuracy: 0.9970 - val_loss: 2.3799 - val_accuracy: 0.6250 - 11s/epoch - 350ms/step\n",
      "Epoch 53/100\n",
      "31/31 - 11s - loss: 0.0043 - accuracy: 0.9970 - val_loss: 2.3897 - val_accuracy: 0.6290 - 11s/epoch - 346ms/step\n",
      "Epoch 54/100\n",
      "31/31 - 11s - loss: 0.0032 - accuracy: 0.9980 - val_loss: 2.4122 - val_accuracy: 0.6250 - 11s/epoch - 344ms/step\n",
      "Epoch 55/100\n",
      "31/31 - 11s - loss: 0.0034 - accuracy: 0.9980 - val_loss: 2.3528 - val_accuracy: 0.6210 - 11s/epoch - 344ms/step\n",
      "Epoch 56/100\n",
      "31/31 - 11s - loss: 0.0041 - accuracy: 0.9980 - val_loss: 2.3682 - val_accuracy: 0.6250 - 11s/epoch - 344ms/step\n",
      "Epoch 57/100\n",
      "31/31 - 11s - loss: 0.0047 - accuracy: 0.9970 - val_loss: 2.3924 - val_accuracy: 0.6250 - 11s/epoch - 344ms/step\n",
      "Epoch 58/100\n",
      "31/31 - 11s - loss: 0.0041 - accuracy: 0.9970 - val_loss: 2.3540 - val_accuracy: 0.6290 - 11s/epoch - 345ms/step\n",
      "Epoch 59/100\n",
      "31/31 - 11s - loss: 0.0040 - accuracy: 0.9970 - val_loss: 2.5659 - val_accuracy: 0.6331 - 11s/epoch - 343ms/step\n",
      "Epoch 60/100\n",
      "31/31 - 11s - loss: 0.0035 - accuracy: 0.9980 - val_loss: 2.5952 - val_accuracy: 0.6290 - 11s/epoch - 346ms/step\n",
      "Epoch 61/100\n",
      "31/31 - 11s - loss: 0.0036 - accuracy: 0.9970 - val_loss: 2.5810 - val_accuracy: 0.6290 - 11s/epoch - 344ms/step\n",
      "Epoch 62/100\n",
      "31/31 - 11s - loss: 0.0041 - accuracy: 0.9970 - val_loss: 2.6272 - val_accuracy: 0.6290 - 11s/epoch - 344ms/step\n",
      "Epoch 63/100\n",
      "31/31 - 11s - loss: 0.0041 - accuracy: 0.9980 - val_loss: 2.6329 - val_accuracy: 0.6290 - 11s/epoch - 346ms/step\n",
      "Epoch 64/100\n",
      "31/31 - 11s - loss: 0.0041 - accuracy: 0.9980 - val_loss: 2.5745 - val_accuracy: 0.6250 - 11s/epoch - 343ms/step\n",
      "Epoch 65/100\n",
      "31/31 - 11s - loss: 0.0038 - accuracy: 0.9970 - val_loss: 2.6026 - val_accuracy: 0.6250 - 11s/epoch - 344ms/step\n",
      "Epoch 66/100\n"
     ]
    },
    {
     "name": "stdout",
     "output_type": "stream",
     "text": [
      "31/31 - 11s - loss: 0.0032 - accuracy: 0.9990 - val_loss: 2.6519 - val_accuracy: 0.6290 - 11s/epoch - 344ms/step\n",
      "Epoch 67/100\n",
      "31/31 - 11s - loss: 0.0034 - accuracy: 0.9980 - val_loss: 2.6734 - val_accuracy: 0.6290 - 11s/epoch - 343ms/step\n",
      "Epoch 68/100\n",
      "31/31 - 11s - loss: 0.0042 - accuracy: 0.9970 - val_loss: 2.6568 - val_accuracy: 0.6371 - 11s/epoch - 344ms/step\n",
      "Epoch 69/100\n",
      "31/31 - 11s - loss: 0.0043 - accuracy: 0.9960 - val_loss: 2.6040 - val_accuracy: 0.6331 - 11s/epoch - 343ms/step\n",
      "Epoch 70/100\n",
      "31/31 - 11s - loss: 0.0035 - accuracy: 0.9980 - val_loss: 2.6380 - val_accuracy: 0.6290 - 11s/epoch - 344ms/step\n",
      "Epoch 71/100\n",
      "31/31 - 11s - loss: 0.0044 - accuracy: 0.9960 - val_loss: 2.6655 - val_accuracy: 0.6290 - 11s/epoch - 344ms/step\n",
      "Epoch 72/100\n",
      "31/31 - 11s - loss: 0.0033 - accuracy: 0.9980 - val_loss: 2.6354 - val_accuracy: 0.6290 - 11s/epoch - 345ms/step\n",
      "Epoch 73/100\n",
      "31/31 - 11s - loss: 0.0042 - accuracy: 0.9970 - val_loss: 2.6640 - val_accuracy: 0.6290 - 11s/epoch - 343ms/step\n",
      "Epoch 74/100\n",
      "31/31 - 11s - loss: 0.0054 - accuracy: 0.9960 - val_loss: 2.5567 - val_accuracy: 0.6290 - 11s/epoch - 346ms/step\n",
      "Epoch 75/100\n",
      "31/31 - 11s - loss: 0.0039 - accuracy: 0.9980 - val_loss: 2.6932 - val_accuracy: 0.6250 - 11s/epoch - 344ms/step\n",
      "Epoch 76/100\n",
      "31/31 - 11s - loss: 0.0042 - accuracy: 0.9980 - val_loss: 2.6637 - val_accuracy: 0.6290 - 11s/epoch - 343ms/step\n",
      "Epoch 77/100\n",
      "31/31 - 11s - loss: 0.0038 - accuracy: 0.9980 - val_loss: 2.7001 - val_accuracy: 0.6290 - 11s/epoch - 346ms/step\n",
      "Epoch 78/100\n",
      "31/31 - 11s - loss: 0.0039 - accuracy: 0.9980 - val_loss: 2.7092 - val_accuracy: 0.6250 - 11s/epoch - 344ms/step\n",
      "Epoch 79/100\n",
      "31/31 - 11s - loss: 0.0041 - accuracy: 0.9970 - val_loss: 2.6913 - val_accuracy: 0.6290 - 11s/epoch - 345ms/step\n",
      "Epoch 80/100\n",
      "31/31 - 11s - loss: 0.0038 - accuracy: 0.9980 - val_loss: 2.6776 - val_accuracy: 0.6129 - 11s/epoch - 344ms/step\n",
      "Epoch 81/100\n",
      "31/31 - 11s - loss: 0.0037 - accuracy: 0.9980 - val_loss: 2.6963 - val_accuracy: 0.6210 - 11s/epoch - 346ms/step\n",
      "Epoch 82/100\n",
      "31/31 - 11s - loss: 0.0034 - accuracy: 0.9980 - val_loss: 2.7253 - val_accuracy: 0.6210 - 11s/epoch - 345ms/step\n",
      "Epoch 83/100\n",
      "31/31 - 11s - loss: 0.0037 - accuracy: 0.9980 - val_loss: 2.7469 - val_accuracy: 0.6250 - 11s/epoch - 345ms/step\n",
      "Epoch 84/100\n",
      "31/31 - 11s - loss: 0.0036 - accuracy: 0.9980 - val_loss: 2.6884 - val_accuracy: 0.6290 - 11s/epoch - 345ms/step\n",
      "Epoch 85/100\n",
      "31/31 - 11s - loss: 0.0042 - accuracy: 0.9980 - val_loss: 2.6774 - val_accuracy: 0.6169 - 11s/epoch - 346ms/step\n",
      "Epoch 86/100\n",
      "31/31 - 11s - loss: 0.0037 - accuracy: 0.9980 - val_loss: 2.6744 - val_accuracy: 0.6290 - 11s/epoch - 346ms/step\n",
      "Epoch 87/100\n",
      "31/31 - 11s - loss: 0.0038 - accuracy: 0.9980 - val_loss: 2.6881 - val_accuracy: 0.6250 - 11s/epoch - 346ms/step\n",
      "Epoch 88/100\n",
      "31/31 - 11s - loss: 0.0038 - accuracy: 0.9980 - val_loss: 2.7279 - val_accuracy: 0.6250 - 11s/epoch - 345ms/step\n",
      "Epoch 89/100\n",
      "31/31 - 11s - loss: 0.0036 - accuracy: 0.9970 - val_loss: 2.7686 - val_accuracy: 0.6250 - 11s/epoch - 345ms/step\n",
      "Epoch 90/100\n",
      "31/31 - 11s - loss: 0.0037 - accuracy: 0.9970 - val_loss: 2.7563 - val_accuracy: 0.6290 - 11s/epoch - 344ms/step\n",
      "Epoch 91/100\n",
      "31/31 - 11s - loss: 0.0037 - accuracy: 0.9980 - val_loss: 2.7540 - val_accuracy: 0.6290 - 11s/epoch - 346ms/step\n",
      "Epoch 92/100\n",
      "31/31 - 11s - loss: 0.0035 - accuracy: 0.9980 - val_loss: 2.8132 - val_accuracy: 0.6331 - 11s/epoch - 347ms/step\n",
      "Epoch 93/100\n",
      "31/31 - 11s - loss: 0.0034 - accuracy: 0.9980 - val_loss: 2.9015 - val_accuracy: 0.6210 - 11s/epoch - 347ms/step\n",
      "Epoch 94/100\n",
      "31/31 - 11s - loss: 0.0051 - accuracy: 0.9980 - val_loss: 2.8233 - val_accuracy: 0.6089 - 11s/epoch - 346ms/step\n",
      "Epoch 95/100\n",
      "31/31 - 11s - loss: 0.0799 - accuracy: 0.9848 - val_loss: 2.2598 - val_accuracy: 0.5806 - 11s/epoch - 348ms/step\n",
      "Epoch 96/100\n",
      "31/31 - 11s - loss: 0.0658 - accuracy: 0.9767 - val_loss: 1.6547 - val_accuracy: 0.6371 - 11s/epoch - 349ms/step\n",
      "Epoch 97/100\n",
      "31/31 - 11s - loss: 0.0224 - accuracy: 0.9939 - val_loss: 1.9087 - val_accuracy: 0.6008 - 11s/epoch - 346ms/step\n",
      "Epoch 98/100\n",
      "31/31 - 11s - loss: 0.0180 - accuracy: 0.9970 - val_loss: 1.7735 - val_accuracy: 0.6169 - 11s/epoch - 348ms/step\n",
      "Epoch 99/100\n",
      "31/31 - 11s - loss: 0.0054 - accuracy: 0.9970 - val_loss: 2.0764 - val_accuracy: 0.5806 - 11s/epoch - 347ms/step\n",
      "Epoch 100/100\n",
      "31/31 - 11s - loss: 0.0061 - accuracy: 0.9970 - val_loss: 1.9782 - val_accuracy: 0.6008 - 11s/epoch - 346ms/step\n"
     ]
    }
   ],
   "source": [
    "batch_size = 32\n",
    "epochs = 100\n",
    "\n",
    "history = model.fit(X_train, y_train, epochs=epochs, batch_size=batch_size, verbose=2, validation_data=(X_test, y_test))"
   ]
  },
  {
   "cell_type": "code",
   "execution_count": null,
   "metadata": {},
   "outputs": [],
   "source": [
    "# save model into file .h5\n",
    "\n",
    "model.save('sentiment_analysis.h5')"
   ]
  },
  {
   "cell_type": "code",
   "execution_count": 12,
   "metadata": {},
   "outputs": [],
   "source": [
    "import seaborn as sns\n",
    "import matplotlib.pyplot as plt"
   ]
  },
  {
   "cell_type": "code",
   "execution_count": 13,
   "metadata": {},
   "outputs": [],
   "source": [
    "# Mengambil data dari history pelatihan model\n",
    "train_loss = history.history['loss']\n",
    "val_loss = history.history['val_loss']\n",
    "train_acc = history.history['accuracy']\n",
    "val_acc = history.history['val_accuracy']"
   ]
  },
  {
   "cell_type": "code",
   "execution_count": 14,
   "metadata": {},
   "outputs": [
    {
     "data": {
      "text/plain": [
       "<Figure size 864x360 with 0 Axes>"
      ]
     },
     "metadata": {},
     "output_type": "display_data"
    }
   ],
   "source": [
    "# Membuat plot\n",
    "plt.figure(figsize=(12,5))\n",
    "sns.set_style(\"whitegrid\")"
   ]
  },
  {
   "cell_type": "code",
   "execution_count": 15,
   "metadata": {},
   "outputs": [
    {
     "data": {
      "text/plain": [
       "<matplotlib.legend.Legend at 0x7f9476d98310>"
      ]
     },
     "execution_count": 15,
     "metadata": {},
     "output_type": "execute_result"
    },
    {
     "data": {
      "image/png": "[encoded data removed]",
      "text/plain": [
       "<Figure size 432x288 with 1 Axes>"
      ]
     },
     "metadata": {},
     "output_type": "display_data"
    }
   ],
   "source": [
    "plt.subplot(1,2,1)\n",
    "sns.lineplot(x=range(1,epochs+1), y=train_loss, label='Training Loss')\n",
    "sns.lineplot(x=range(1,epochs+1), y=val_loss, label='Validation Loss')\n",
    "plt.title('Loss')\n",
    "plt.xlabel('Epochs')\n",
    "plt.ylabel('Loss')\n",
    "plt.legend()"
   ]
  },
  {
   "cell_type": "code",
   "execution_count": 16,
   "metadata": {},
   "outputs": [
    {
     "data": {
      "image/png": "[encoded data removed]",
      "text/plain": [
       "<Figure size 432x288 with 1 Axes>"
      ]
     },
     "metadata": {},
     "output_type": "display_data"
    }
   ],
   "source": [
    "plt.subplot(1,2,2)\n",
    "sns.lineplot(x=range(1,epochs+1), y=train_acc, label='Training Accuracy')\n",
    "sns.lineplot(x=range(1,epochs+1), y=val_acc, label='Validation Accuracy')\n",
    "plt.title('Accuracy')\n",
    "plt.xlabel('Epochs')\n",
    "plt.ylabel('Accuracy')\n",
    "plt.legend()\n",
    "\n",
    "plt.show()"
   ]
  },
  {
   "cell_type": "code",
   "execution_count": 17,
   "metadata": {},
   "outputs": [
    {
     "name": "stdout",
     "output_type": "stream",
     "text": [
      "8/8 [==============================] - 1s 62ms/step\n",
      "              precision    recall  f1-score   support\n",
      "\n",
      "           0       0.65      0.73      0.68       121\n",
      "           1       0.28      0.26      0.27        34\n",
      "           2       0.65      0.56      0.60        93\n",
      "\n",
      "    accuracy                           0.60       248\n",
      "   macro avg       0.53      0.52      0.52       248\n",
      "weighted avg       0.60      0.60      0.60       248\n",
      "\n"
     ]
    }
   ],
   "source": [
    "from sklearn.metrics import classification_report\n",
    "\n",
    "y_pred = model.predict(X_test)\n",
    "y_pred = np.argmax(y_pred, axis=1)\n",
    "y_true = np.argmax(y_test, axis=1)\n",
    "print(classification_report(y_true, y_pred))"
   ]
  },
  {
   "cell_type": "code",
   "execution_count": 18,
   "metadata": {},
   "outputs": [
    {
     "name": "stdout",
     "output_type": "stream",
     "text": [
      "[[88 11 22]\n",
      " [19  9  6]\n",
      " [29 12 52]]\n"
     ]
    }
   ],
   "source": [
    "from sklearn.metrics import confusion_matrix\n",
    "\n",
    "conf_mat = confusion_matrix(y_true, y_pred)\n",
    "print(conf_mat)"
   ]
  },
  {
   "cell_type": "code",
   "execution_count": 19,
   "metadata": {},
   "outputs": [
    {
     "data": {
      "image/png": "[encoded data removed]",
      "text/plain": [
       "<Figure size 432x288 with 2 Axes>"
      ]
     },
     "metadata": {},
     "output_type": "display_data"
    }
   ],
   "source": [
    "sns.heatmap(conf_mat, annot=True, cmap='Blues', fmt='d')\n",
    "plt.title('Confusion Matrix')\n",
    "plt.xlabel('Predicted Label')\n",
    "plt.ylabel('True Label')\n",
    "plt.show()"
   ]
  },
  {
   "cell_type": "markdown",
   "metadata": {},
   "source": [
    "## Evaluate Model"
   ]
  },
  {
   "cell_type": "code",
   "execution_count": 20,
   "metadata": {},
   "outputs": [
    {
     "name": "stdout",
     "output_type": "stream",
     "text": [
      "8/8 - 0s - loss: 1.9782 - accuracy: 0.6008 - 475ms/epoch - 59ms/step\n",
      "score: 1.98\n",
      "acc: 0.60\n"
     ]
    }
   ],
   "source": [
    "# evaluate model with data test\n",
    "\n",
    "score, acc = model.evaluate(X_test, y_test, verbose = 2, batch_size = batch_size)\n",
    "\n",
    "print(\"score: %.2f\" % (score))\n",
    "print(\"acc: %.2f\" % (acc))"
   ]
  },
  {
   "cell_type": "code",
   "execution_count": null,
   "metadata": {},
   "outputs": [],
   "source": []
  },
  {
   "cell_type": "markdown",
   "metadata": {},
   "source": [
    "## Predict New Dataset"
   ]
  },
  {
   "cell_type": "code",
   "execution_count": 58,
   "metadata": {},
   "outputs": [
    {
     "data": {
      "text/html": [
       "<div>\n",
       "<style scoped>\n",
       "    .dataframe tbody tr th:only-of-type {\n",
       "        vertical-align: middle;\n",
       "    }\n",
       "\n",
       "    .dataframe tbody tr th {\n",
       "        vertical-align: top;\n",
       "    }\n",
       "\n",
       "    .dataframe thead th {\n",
       "        text-align: right;\n",
       "    }\n",
       "</style>\n",
       "<table border=\"1\" class=\"dataframe\">\n",
       "  <thead>\n",
       "    <tr style=\"text-align: right;\">\n",
       "      <th></th>\n",
       "      <th>tweet</th>\n",
       "    </tr>\n",
       "  </thead>\n",
       "  <tbody>\n",
       "    <tr>\n",
       "      <th>0</th>\n",
       "      <td>@M45Broo_ Cebong benar2 panik luar biasa, ini ...</td>\n",
       "    </tr>\n",
       "    <tr>\n",
       "      <th>1</th>\n",
       "      <td>@Relawananies https://t.co/uf5sE0iGLI</td>\n",
       "    </tr>\n",
       "    <tr>\n",
       "      <th>2</th>\n",
       "      <td>RT @BosPurwa: #IndonesiaMemanggil \\n5 Tahun An...</td>\n",
       "    </tr>\n",
       "    <tr>\n",
       "      <th>3</th>\n",
       "      <td>RT @aLy_Bima: Video ini hanya untuk orang yang...</td>\n",
       "    </tr>\n",
       "    <tr>\n",
       "      <th>4</th>\n",
       "      <td>RT @tempodotco: \"Tidak ringan permasalahan di ...</td>\n",
       "    </tr>\n",
       "    <tr>\n",
       "      <th>...</th>\n",
       "      <td>...</td>\n",
       "    </tr>\n",
       "    <tr>\n",
       "      <th>445</th>\n",
       "      <td>RT @Relawananies: Momen haru saat Anies Baswed...</td>\n",
       "    </tr>\n",
       "    <tr>\n",
       "      <th>446</th>\n",
       "      <td>@maspiyuaja Terima kasih om https://t.co/PUgr2...</td>\n",
       "    </tr>\n",
       "    <tr>\n",
       "      <th>447</th>\n",
       "      <td>RT @BosPurwa: #IndonesiaMemanggil \\n5 Tahun An...</td>\n",
       "    </tr>\n",
       "    <tr>\n",
       "      <th>448</th>\n",
       "      <td>RT @OposisiCerdas: Kamhar Lakumani Sebut Anies...</td>\n",
       "    </tr>\n",
       "    <tr>\n",
       "      <th>449</th>\n",
       "      <td>@GunRomli Bosmu ����� gak ngapa ngapain https:...</td>\n",
       "    </tr>\n",
       "  </tbody>\n",
       "</table>\n",
       "<p>450 rows × 1 columns</p>\n",
       "</div>"
      ],
      "text/plain": [
       "                                                 tweet\n",
       "0    @M45Broo_ Cebong benar2 panik luar biasa, ini ...\n",
       "1                @Relawananies https://t.co/uf5sE0iGLI\n",
       "2    RT @BosPurwa: #IndonesiaMemanggil \\n5 Tahun An...\n",
       "3    RT @aLy_Bima: Video ini hanya untuk orang yang...\n",
       "4    RT @tempodotco: \"Tidak ringan permasalahan di ...\n",
       "..                                                 ...\n",
       "445  RT @Relawananies: Momen haru saat Anies Baswed...\n",
       "446  @maspiyuaja Terima kasih om https://t.co/PUgr2...\n",
       "447  RT @BosPurwa: #IndonesiaMemanggil \\n5 Tahun An...\n",
       "448  RT @OposisiCerdas: Kamhar Lakumani Sebut Anies...\n",
       "449  @GunRomli Bosmu ����� gak ngapa ngapain https:...\n",
       "\n",
       "[450 rows x 1 columns]"
      ]
     },
     "execution_count": 58,
     "metadata": {},
     "output_type": "execute_result"
    }
   ],
   "source": [
    "# read new dataset\n",
    "import re\n",
    "import numpy as np\n",
    "import pandas as pd\n",
    "data = pd.read_csv('tweet2.csv')\n",
    "# menghapus kolom id\n",
    "data = data.drop(['id'], axis=1)\n",
    "\n",
    "data"
   ]
  },
  {
   "cell_type": "code",
   "execution_count": 59,
   "metadata": {},
   "outputs": [
    {
     "data": {
      "text/html": [
       "<div>\n",
       "<style scoped>\n",
       "    .dataframe tbody tr th:only-of-type {\n",
       "        vertical-align: middle;\n",
       "    }\n",
       "\n",
       "    .dataframe tbody tr th {\n",
       "        vertical-align: top;\n",
       "    }\n",
       "\n",
       "    .dataframe thead th {\n",
       "        text-align: right;\n",
       "    }\n",
       "</style>\n",
       "<table border=\"1\" class=\"dataframe\">\n",
       "  <thead>\n",
       "    <tr style=\"text-align: right;\">\n",
       "      <th></th>\n",
       "      <th>tweet</th>\n",
       "    </tr>\n",
       "  </thead>\n",
       "  <tbody>\n",
       "    <tr>\n",
       "      <th>0</th>\n",
       "      <td>wahhhaneksasi itu</td>\n",
       "    </tr>\n",
       "    <tr>\n",
       "      <th>1</th>\n",
       "      <td>indonesiamemanggil 5 tahun anies baswedan memi...</td>\n",
       "    </tr>\n",
       "    <tr>\n",
       "      <th>2</th>\n",
       "      <td>awas kena diare lagi om</td>\n",
       "    </tr>\n",
       "    <tr>\n",
       "      <th>3</th>\n",
       "      <td>anies baswedan duduk bareng elite parpol pks k...</td>\n",
       "    </tr>\n",
       "    <tr>\n",
       "      <th>4</th>\n",
       "      <td>kwekkwek</td>\n",
       "    </tr>\n",
       "    <tr>\n",
       "      <th>...</th>\n",
       "      <td>...</td>\n",
       "    </tr>\n",
       "    <tr>\n",
       "      <th>430</th>\n",
       "      <td>kwekkwek</td>\n",
       "    </tr>\n",
       "    <tr>\n",
       "      <th>431</th>\n",
       "      <td>bapak christoforus rea tokoh ummat katolik nam...</td>\n",
       "    </tr>\n",
       "    <tr>\n",
       "      <th>432</th>\n",
       "      <td>sejak kemarin anies baswedan bukan lagi gubern...</td>\n",
       "    </tr>\n",
       "    <tr>\n",
       "      <th>433</th>\n",
       "      <td>video ini hanya untuk orang yang belum tahu pr...</td>\n",
       "    </tr>\n",
       "    <tr>\n",
       "      <th>434</th>\n",
       "      <td>surya paloh optimistis nasdem dengan anies bas...</td>\n",
       "    </tr>\n",
       "  </tbody>\n",
       "</table>\n",
       "<p>435 rows × 1 columns</p>\n",
       "</div>"
      ],
      "text/plain": [
       "                                                 tweet\n",
       "0                                   wahhhaneksasi itu \n",
       "1    indonesiamemanggil 5 tahun anies baswedan memi...\n",
       "2                              awas kena diare lagi om\n",
       "3    anies baswedan duduk bareng elite parpol pks k...\n",
       "4                                            kwekkwek \n",
       "..                                                 ...\n",
       "430                                          kwekkwek \n",
       "431  bapak christoforus rea tokoh ummat katolik nam...\n",
       "432  sejak kemarin anies baswedan bukan lagi gubern...\n",
       "433  video ini hanya untuk orang yang belum tahu pr...\n",
       "434  surya paloh optimistis nasdem dengan anies bas...\n",
       "\n",
       "[435 rows x 1 columns]"
      ]
     },
     "execution_count": 59,
     "metadata": {},
     "output_type": "execute_result"
    }
   ],
   "source": [
    "# data preprocessing\n",
    "\n",
    "def tweetPrepocessing(text):\n",
    "  text = text.lower()\n",
    "  text = re.sub('\\n','', text)\n",
    "  text = re.sub('rt ','', text)\n",
    "  text = re.sub('#','', text)\n",
    "  text = re.sub('@\\w+(?:\\:)\\ ','', text)\n",
    "  text = re.sub(r'(?:\\@|http?\\://|https?\\://|www)\\S+','', text)\n",
    "  text = re.sub('[^a-zA-z0-9\\s]','', text)\n",
    "  text = re.sub('  ',' ', text)\n",
    "\n",
    "  if text == ' ':\n",
    "    return None\n",
    "\n",
    "  return text\n",
    "\n",
    "data = data.sample(frac=1)\n",
    "data['tweet'] = data['tweet'].apply(tweetPrepocessing)\n",
    "data.dropna(inplace=True)\n",
    "data.reset_index(drop=True, inplace = True)\n",
    "\n",
    "data"
   ]
  },
  {
   "cell_type": "code",
   "execution_count": 60,
   "metadata": {},
   "outputs": [
    {
     "name": "stdout",
     "output_type": "stream",
     "text": [
      "[[   0    0    0 ...    0  631   47]\n",
      " [   0    0    0 ...   41   42   43]\n",
      " [   0    0    0 ...  632   79  427]\n",
      " ...\n",
      " [   0    0    0 ...   51    7  265]\n",
      " [   0    0    0 ...   45    1    2]\n",
      " [   0    0    0 ...  150  220 1549]]\n"
     ]
    },
    {
     "data": {
      "text/plain": [
       "(435, 42)"
      ]
     },
     "execution_count": 60,
     "metadata": {},
     "output_type": "execute_result"
    }
   ],
   "source": [
    "from keras.preprocessing.text import Tokenizer\n",
    "from keras.utils import pad_sequences\n",
    "\n",
    "tokenizer = Tokenizer(num_words=5000, split=\" \")\n",
    "\n",
    "tokenizer.fit_on_texts(data['tweet'].values)\n",
    "X = tokenizer.texts_to_sequences(data['tweet'].values)\n",
    "X = pad_sequences(X)\n",
    "print(X)\n",
    "\n",
    "\n",
    "tokenizer.fit_on_texts(data['tweet'].values)\n",
    "\n",
    "X_new = tokenizer.texts_to_sequences(data['tweet'].values)\n",
    "X_new = pad_sequences(X_new)\n",
    "X_new.shape"
   ]
  },
  {
   "cell_type": "code",
   "execution_count": 61,
   "metadata": {},
   "outputs": [],
   "source": [
    "# load model\n",
    "from keras.models import Sequential, load_model\n",
    "mymodel = load_model('sentiment_analysis.h5')"
   ]
  },
  {
   "cell_type": "code",
   "execution_count": 64,
   "metadata": {},
   "outputs": [
    {
     "name": "stdout",
     "output_type": "stream",
     "text": [
      "14/14 [==============================] - 1s 50ms/step\n"
     ]
    }
   ],
   "source": [
    "# predict data\n",
    "\n",
    "pred = mymodel.predict(X_new)\n"
   ]
  },
  {
   "cell_type": "code",
   "execution_count": 66,
   "metadata": {},
   "outputs": [
    {
     "ename": "NameError",
     "evalue": "name 'y_pred' is not defined",
     "output_type": "error",
     "traceback": [
      "\u001b[0;31m---------------------------------------------------------------------------\u001b[0m",
      "\u001b[0;31mNameError\u001b[0m                                 Traceback (most recent call last)",
      "\u001b[0;32m/tmp/ipykernel_11742/2918348846.py\u001b[0m in \u001b[0;36m<module>\u001b[0;34m\u001b[0m\n\u001b[1;32m      1\u001b[0m \u001b[0;32mfrom\u001b[0m \u001b[0msklearn\u001b[0m\u001b[0;34m.\u001b[0m\u001b[0mmetrics\u001b[0m \u001b[0;32mimport\u001b[0m \u001b[0mconfusion_matrix\u001b[0m\u001b[0;34m\u001b[0m\u001b[0;34m\u001b[0m\u001b[0m\n\u001b[1;32m      2\u001b[0m \u001b[0;31m# Membuat Confusion Matrix\u001b[0m\u001b[0;34m\u001b[0m\u001b[0;34m\u001b[0m\u001b[0m\n\u001b[0;32m----> 3\u001b[0;31m \u001b[0mcm\u001b[0m \u001b[0;34m=\u001b[0m \u001b[0mconfusion_matrix\u001b[0m\u001b[0;34m(\u001b[0m\u001b[0my_test\u001b[0m\u001b[0;34m,\u001b[0m \u001b[0my_pred\u001b[0m\u001b[0;34m)\u001b[0m\u001b[0;34m\u001b[0m\u001b[0;34m\u001b[0m\u001b[0m\n\u001b[0m",
      "\u001b[0;31mNameError\u001b[0m: name 'y_pred' is not defined"
     ]
    }
   ],
   "source": []
  },
  {
   "cell_type": "code",
   "execution_count": 53,
   "metadata": {},
   "outputs": [],
   "source": [
    "# labelling\n",
    "\n",
    "def labelling(array):\n",
    "  labels = ['dukungan', 'netral', 'tidak mendukung']\n",
    "  output = []\n",
    "  for a in array:\n",
    "    output.append(labels[np.argmax(a)])\n",
    "  return output\n",
    "\n",
    "label = labelling(pred)"
   ]
  },
  {
   "cell_type": "code",
   "execution_count": null,
   "metadata": {},
   "outputs": [],
   "source": []
  },
  {
   "cell_type": "code",
   "execution_count": 54,
   "metadata": {},
   "outputs": [
    {
     "data": {
      "text/html": [
       "<div>\n",
       "<style scoped>\n",
       "    .dataframe tbody tr th:only-of-type {\n",
       "        vertical-align: middle;\n",
       "    }\n",
       "\n",
       "    .dataframe tbody tr th {\n",
       "        vertical-align: top;\n",
       "    }\n",
       "\n",
       "    .dataframe thead th {\n",
       "        text-align: right;\n",
       "    }\n",
       "</style>\n",
       "<table border=\"1\" class=\"dataframe\">\n",
       "  <thead>\n",
       "    <tr style=\"text-align: right;\">\n",
       "      <th></th>\n",
       "      <th>tweet</th>\n",
       "      <th>label</th>\n",
       "    </tr>\n",
       "  </thead>\n",
       "  <tbody>\n",
       "    <tr>\n",
       "      <th>0</th>\n",
       "      <td>kenduri rakyat jarnas anies baswedan yogyakart...</td>\n",
       "      <td>netral</td>\n",
       "    </tr>\n",
       "    <tr>\n",
       "      <th>1</th>\n",
       "      <td>brengsek anies baswedan gak bisa kerja sekaran...</td>\n",
       "      <td>netral</td>\n",
       "    </tr>\n",
       "    <tr>\n",
       "      <th>2</th>\n",
       "      <td>hanya pandai omdo ajakelebihan bayar dn php</td>\n",
       "      <td>netral</td>\n",
       "    </tr>\n",
       "    <tr>\n",
       "      <th>3</th>\n",
       "      <td>ketum partai gerindra prabowo subianto memilik...</td>\n",
       "      <td>tidak mendukung</td>\n",
       "    </tr>\n",
       "    <tr>\n",
       "      <th>4</th>\n",
       "      <td>indonesiamemanggil 5 tahun anies baswedan memi...</td>\n",
       "      <td>tidak mendukung</td>\n",
       "    </tr>\n",
       "    <tr>\n",
       "      <th>...</th>\n",
       "      <td>...</td>\n",
       "      <td>...</td>\n",
       "    </tr>\n",
       "    <tr>\n",
       "      <th>430</th>\n",
       "      <td>sinyal buat koalisi ak2412 oktoober 2022jender...</td>\n",
       "      <td>netral</td>\n",
       "    </tr>\n",
       "    <tr>\n",
       "      <th>431</th>\n",
       "      <td>janji anies baswedan menjadi jancukkepulauan b...</td>\n",
       "      <td>dukungan</td>\n",
       "    </tr>\n",
       "    <tr>\n",
       "      <th>432</th>\n",
       "      <td>kenapa disaat last lap pencitraan</td>\n",
       "      <td>tidak mendukung</td>\n",
       "    </tr>\n",
       "    <tr>\n",
       "      <th>433</th>\n",
       "      <td>partai koalisi pemerintah 82 suaranya di parle...</td>\n",
       "      <td>dukungan</td>\n",
       "    </tr>\n",
       "    <tr>\n",
       "      <th>434</th>\n",
       "      <td>wow ada babilungeh</td>\n",
       "      <td>tidak mendukung</td>\n",
       "    </tr>\n",
       "  </tbody>\n",
       "</table>\n",
       "<p>435 rows × 2 columns</p>\n",
       "</div>"
      ],
      "text/plain": [
       "                                                 tweet            label\n",
       "0    kenduri rakyat jarnas anies baswedan yogyakart...           netral\n",
       "1    brengsek anies baswedan gak bisa kerja sekaran...           netral\n",
       "2         hanya pandai omdo ajakelebihan bayar dn php            netral\n",
       "3    ketum partai gerindra prabowo subianto memilik...  tidak mendukung\n",
       "4    indonesiamemanggil 5 tahun anies baswedan memi...  tidak mendukung\n",
       "..                                                 ...              ...\n",
       "430  sinyal buat koalisi ak2412 oktoober 2022jender...           netral\n",
       "431  janji anies baswedan menjadi jancukkepulauan b...         dukungan\n",
       "432                 kenapa disaat last lap pencitraan   tidak mendukung\n",
       "433  partai koalisi pemerintah 82 suaranya di parle...         dukungan\n",
       "434                                 wow ada babilungeh  tidak mendukung\n",
       "\n",
       "[435 rows x 2 columns]"
      ]
     },
     "execution_count": 54,
     "metadata": {},
     "output_type": "execute_result"
    }
   ],
   "source": [
    "# add label to data\n",
    "\n",
    "data['label'] = label\n",
    "\n",
    "data"
   ]
  },
  {
   "cell_type": "code",
   "execution_count": 43,
   "metadata": {},
   "outputs": [],
   "source": [
    "# save to new csv\n",
    "\n",
    "data.to_csv('tweet2_new.csv', index=False)"
   ]
  },
  {
   "cell_type": "code",
   "execution_count": null,
   "metadata": {},
   "outputs": [],
   "source": []
  },
  {
   "cell_type": "code",
   "execution_count": null,
   "metadata": {},
   "outputs": [],
   "source": []
  },
  {
   "cell_type": "code",
   "execution_count": null,
   "metadata": {},
   "outputs": [],
   "source": []
  },
  {
   "cell_type": "code",
   "execution_count": null,
   "metadata": {},
   "outputs": [],
   "source": []
  },
  {
   "cell_type": "code",
   "execution_count": null,
   "metadata": {},
   "outputs": [],
   "source": []
  }
 ],
 "metadata": {
  "kernelspec": {
   "display_name": "Python 3 (ipykernel)",
   "language": "python",
   "name": "python3"
  },
  "language_info": {
   "codemirror_mode": {
    "name": "ipython",
    "version": 3
   },
   "file_extension": ".py",
   "mimetype": "text/x-python",
   "name": "python",
   "nbconvert_exporter": "python",
   "pygments_lexer": "ipython3",
   "version": "3.9.7"
  },
  "vscode": {
   "interpreter": {
    "hash": "65e2cb4ba52f491d98b9dab0c6a41d622f0e8e62820fe5497205364b0533bb9e"
   }
  }
 },
 "nbformat": 4,
 "nbformat_minor": 2
}
